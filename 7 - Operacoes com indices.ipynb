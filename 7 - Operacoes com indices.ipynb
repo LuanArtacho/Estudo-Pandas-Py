{
 "cells": [
  {
   "cell_type": "code",
   "execution_count": 1,
   "id": "9e05c870",
   "metadata": {},
   "outputs": [],
   "source": [
    "import pandas as pd\n",
    "import numpy as np\n",
    "from numpy.random import randn"
   ]
  },
  {
   "cell_type": "code",
   "execution_count": 2,
   "id": "2fa8ab31",
   "metadata": {},
   "outputs": [],
   "source": [
    "df = pd.DataFrame(randn(5, 4), index=[\"A\", \"B\", \"C\", \"D\", \"E\"], columns=\"W X Y Z\".split())\n",
    "# o pd.DataFrame, cria uma 'tabela', com o randn de 5 linhas e 4 colunas de numeros aleatorios.\n",
    "\n",
    "# Metodo Slipt quebra em uma lista de strings"
   ]
  },
  {
   "cell_type": "code",
   "execution_count": 3,
   "id": "72772111",
   "metadata": {},
   "outputs": [
    {
     "data": {
      "text/html": [
       "<div>\n",
       "<style scoped>\n",
       "    .dataframe tbody tr th:only-of-type {\n",
       "        vertical-align: middle;\n",
       "    }\n",
       "\n",
       "    .dataframe tbody tr th {\n",
       "        vertical-align: top;\n",
       "    }\n",
       "\n",
       "    .dataframe thead th {\n",
       "        text-align: right;\n",
       "    }\n",
       "</style>\n",
       "<table border=\"1\" class=\"dataframe\">\n",
       "  <thead>\n",
       "    <tr style=\"text-align: right;\">\n",
       "      <th></th>\n",
       "      <th>W</th>\n",
       "      <th>X</th>\n",
       "      <th>Y</th>\n",
       "      <th>Z</th>\n",
       "    </tr>\n",
       "  </thead>\n",
       "  <tbody>\n",
       "    <tr>\n",
       "      <th>A</th>\n",
       "      <td>-0.092088</td>\n",
       "      <td>0.374514</td>\n",
       "      <td>0.369449</td>\n",
       "      <td>-0.727967</td>\n",
       "    </tr>\n",
       "    <tr>\n",
       "      <th>B</th>\n",
       "      <td>1.390980</td>\n",
       "      <td>-1.022536</td>\n",
       "      <td>1.316729</td>\n",
       "      <td>-0.579778</td>\n",
       "    </tr>\n",
       "    <tr>\n",
       "      <th>C</th>\n",
       "      <td>-1.403237</td>\n",
       "      <td>0.362705</td>\n",
       "      <td>-0.665453</td>\n",
       "      <td>0.459495</td>\n",
       "    </tr>\n",
       "    <tr>\n",
       "      <th>D</th>\n",
       "      <td>0.748052</td>\n",
       "      <td>0.028593</td>\n",
       "      <td>1.768899</td>\n",
       "      <td>1.687557</td>\n",
       "    </tr>\n",
       "    <tr>\n",
       "      <th>E</th>\n",
       "      <td>-1.965851</td>\n",
       "      <td>-1.920426</td>\n",
       "      <td>0.163085</td>\n",
       "      <td>0.148634</td>\n",
       "    </tr>\n",
       "  </tbody>\n",
       "</table>\n",
       "</div>"
      ],
      "text/plain": [
       "          W         X         Y         Z\n",
       "A -0.092088  0.374514  0.369449 -0.727967\n",
       "B  1.390980 -1.022536  1.316729 -0.579778\n",
       "C -1.403237  0.362705 -0.665453  0.459495\n",
       "D  0.748052  0.028593  1.768899  1.687557\n",
       "E -1.965851 -1.920426  0.163085  0.148634"
      ]
     },
     "execution_count": 3,
     "metadata": {},
     "output_type": "execute_result"
    }
   ],
   "source": [
    "df\n",
    "# Mostrando a tabela (DataFrame) com os numeros aleatórios"
   ]
  },
  {
   "cell_type": "code",
   "execution_count": 4,
   "id": "ff39e177",
   "metadata": {},
   "outputs": [
    {
     "data": {
      "text/plain": [
       "Index(['A', 'B', 'C', 'D', 'E'], dtype='object')"
      ]
     },
     "execution_count": 4,
     "metadata": {},
     "output_type": "execute_result"
    }
   ],
   "source": [
    "#retorna uma lista, olhando os indices, as linhas\n",
    "df.index"
   ]
  },
  {
   "cell_type": "code",
   "execution_count": 5,
   "id": "9180fa24",
   "metadata": {},
   "outputs": [
    {
     "data": {
      "text/plain": [
       "Index(['W', 'X', 'Y', 'Z'], dtype='object')"
      ]
     },
     "execution_count": 5,
     "metadata": {},
     "output_type": "execute_result"
    }
   ],
   "source": [
    "# olhando as colunas\n",
    "df.columns"
   ]
  },
  {
   "cell_type": "code",
   "execution_count": 8,
   "id": "e6d15bef",
   "metadata": {},
   "outputs": [
    {
     "data": {
      "text/html": [
       "<div>\n",
       "<style scoped>\n",
       "    .dataframe tbody tr th:only-of-type {\n",
       "        vertical-align: middle;\n",
       "    }\n",
       "\n",
       "    .dataframe tbody tr th {\n",
       "        vertical-align: top;\n",
       "    }\n",
       "\n",
       "    .dataframe thead th {\n",
       "        text-align: right;\n",
       "    }\n",
       "</style>\n",
       "<table border=\"1\" class=\"dataframe\">\n",
       "  <thead>\n",
       "    <tr style=\"text-align: right;\">\n",
       "      <th></th>\n",
       "      <th>index</th>\n",
       "      <th>W</th>\n",
       "      <th>X</th>\n",
       "      <th>Y</th>\n",
       "      <th>Z</th>\n",
       "    </tr>\n",
       "  </thead>\n",
       "  <tbody>\n",
       "    <tr>\n",
       "      <th>0</th>\n",
       "      <td>A</td>\n",
       "      <td>-0.092088</td>\n",
       "      <td>0.374514</td>\n",
       "      <td>0.369449</td>\n",
       "      <td>-0.727967</td>\n",
       "    </tr>\n",
       "    <tr>\n",
       "      <th>1</th>\n",
       "      <td>B</td>\n",
       "      <td>1.390980</td>\n",
       "      <td>-1.022536</td>\n",
       "      <td>1.316729</td>\n",
       "      <td>-0.579778</td>\n",
       "    </tr>\n",
       "    <tr>\n",
       "      <th>2</th>\n",
       "      <td>C</td>\n",
       "      <td>-1.403237</td>\n",
       "      <td>0.362705</td>\n",
       "      <td>-0.665453</td>\n",
       "      <td>0.459495</td>\n",
       "    </tr>\n",
       "    <tr>\n",
       "      <th>3</th>\n",
       "      <td>D</td>\n",
       "      <td>0.748052</td>\n",
       "      <td>0.028593</td>\n",
       "      <td>1.768899</td>\n",
       "      <td>1.687557</td>\n",
       "    </tr>\n",
       "    <tr>\n",
       "      <th>4</th>\n",
       "      <td>E</td>\n",
       "      <td>-1.965851</td>\n",
       "      <td>-1.920426</td>\n",
       "      <td>0.163085</td>\n",
       "      <td>0.148634</td>\n",
       "    </tr>\n",
       "  </tbody>\n",
       "</table>\n",
       "</div>"
      ],
      "text/plain": [
       "  index         W         X         Y         Z\n",
       "0     A -0.092088  0.374514  0.369449 -0.727967\n",
       "1     B  1.390980 -1.022536  1.316729 -0.579778\n",
       "2     C -1.403237  0.362705 -0.665453  0.459495\n",
       "3     D  0.748052  0.028593  1.768899  1.687557\n",
       "4     E -1.965851 -1.920426  0.163085  0.148634"
      ]
     },
     "execution_count": 8,
     "metadata": {},
     "output_type": "execute_result"
    }
   ],
   "source": [
    "# Joga meu indice(index) para fora, e add os numeros\n",
    "df.reset_index()\n",
    "# quando ele retorna algo no pandas muito provavelmente ele nao alterou o original\n",
    "# para salvar tem que passasr o comando,\n",
    "# df.reset_index(inplace=True)"
   ]
  },
  {
   "cell_type": "code",
   "execution_count": 15,
   "id": "0e5cfe64",
   "metadata": {},
   "outputs": [
    {
     "data": {
      "text/html": [
       "<div>\n",
       "<style scoped>\n",
       "    .dataframe tbody tr th:only-of-type {\n",
       "        vertical-align: middle;\n",
       "    }\n",
       "\n",
       "    .dataframe tbody tr th {\n",
       "        vertical-align: top;\n",
       "    }\n",
       "\n",
       "    .dataframe thead th {\n",
       "        text-align: right;\n",
       "    }\n",
       "</style>\n",
       "<table border=\"1\" class=\"dataframe\">\n",
       "  <thead>\n",
       "    <tr style=\"text-align: right;\">\n",
       "      <th></th>\n",
       "      <th>W</th>\n",
       "      <th>X</th>\n",
       "      <th>Y</th>\n",
       "      <th>Z</th>\n",
       "      <th>novo_index</th>\n",
       "    </tr>\n",
       "  </thead>\n",
       "  <tbody>\n",
       "    <tr>\n",
       "      <th>A</th>\n",
       "      <td>-0.092088</td>\n",
       "      <td>0.374514</td>\n",
       "      <td>0.369449</td>\n",
       "      <td>-0.727967</td>\n",
       "      <td>CA</td>\n",
       "    </tr>\n",
       "    <tr>\n",
       "      <th>B</th>\n",
       "      <td>1.390980</td>\n",
       "      <td>-1.022536</td>\n",
       "      <td>1.316729</td>\n",
       "      <td>-0.579778</td>\n",
       "      <td>NY</td>\n",
       "    </tr>\n",
       "    <tr>\n",
       "      <th>C</th>\n",
       "      <td>-1.403237</td>\n",
       "      <td>0.362705</td>\n",
       "      <td>-0.665453</td>\n",
       "      <td>0.459495</td>\n",
       "      <td>WY</td>\n",
       "    </tr>\n",
       "    <tr>\n",
       "      <th>D</th>\n",
       "      <td>0.748052</td>\n",
       "      <td>0.028593</td>\n",
       "      <td>1.768899</td>\n",
       "      <td>1.687557</td>\n",
       "      <td>OR</td>\n",
       "    </tr>\n",
       "    <tr>\n",
       "      <th>E</th>\n",
       "      <td>-1.965851</td>\n",
       "      <td>-1.920426</td>\n",
       "      <td>0.163085</td>\n",
       "      <td>0.148634</td>\n",
       "      <td>CO</td>\n",
       "    </tr>\n",
       "  </tbody>\n",
       "</table>\n",
       "</div>"
      ],
      "text/plain": [
       "          W         X         Y         Z novo_index\n",
       "A -0.092088  0.374514  0.369449 -0.727967         CA\n",
       "B  1.390980 -1.022536  1.316729 -0.579778         NY\n",
       "C -1.403237  0.362705 -0.665453  0.459495         WY\n",
       "D  0.748052  0.028593  1.768899  1.687557         OR\n",
       "E -1.965851 -1.920426  0.163085  0.148634         CO"
      ]
     },
     "execution_count": 15,
     "metadata": {},
     "output_type": "execute_result"
    }
   ],
   "source": [
    "# df original segue sem alteraçoes.\n",
    "df\n",
    "\n",
    "# Caso tivesse feita a alteraçao do reset_index, para voltar ao original, passaria o comando,\n",
    "# df.set_index(\"index\", inplace=True)"
   ]
  },
  {
   "cell_type": "markdown",
   "id": "a3b30b56",
   "metadata": {},
   "source": [
    "### Passando uma nova coluna"
   ]
  },
  {
   "cell_type": "code",
   "execution_count": 10,
   "id": "4364bc99",
   "metadata": {},
   "outputs": [],
   "source": [
    "novoindx = 'CA NY WY OR CO'.split()"
   ]
  },
  {
   "cell_type": "code",
   "execution_count": 11,
   "id": "746f0ccc",
   "metadata": {},
   "outputs": [],
   "source": [
    "# para encaixar a lista o pandas pede que tenha o msm tamanho.\n",
    "df[\"novo_index\"] = novoindx"
   ]
  },
  {
   "cell_type": "code",
   "execution_count": 13,
   "id": "94c24866",
   "metadata": {},
   "outputs": [
    {
     "data": {
      "text/html": [
       "<div>\n",
       "<style scoped>\n",
       "    .dataframe tbody tr th:only-of-type {\n",
       "        vertical-align: middle;\n",
       "    }\n",
       "\n",
       "    .dataframe tbody tr th {\n",
       "        vertical-align: top;\n",
       "    }\n",
       "\n",
       "    .dataframe thead th {\n",
       "        text-align: right;\n",
       "    }\n",
       "</style>\n",
       "<table border=\"1\" class=\"dataframe\">\n",
       "  <thead>\n",
       "    <tr style=\"text-align: right;\">\n",
       "      <th></th>\n",
       "      <th>W</th>\n",
       "      <th>X</th>\n",
       "      <th>Y</th>\n",
       "      <th>Z</th>\n",
       "    </tr>\n",
       "    <tr>\n",
       "      <th>novo_index</th>\n",
       "      <th></th>\n",
       "      <th></th>\n",
       "      <th></th>\n",
       "      <th></th>\n",
       "    </tr>\n",
       "  </thead>\n",
       "  <tbody>\n",
       "    <tr>\n",
       "      <th>CA</th>\n",
       "      <td>-0.092088</td>\n",
       "      <td>0.374514</td>\n",
       "      <td>0.369449</td>\n",
       "      <td>-0.727967</td>\n",
       "    </tr>\n",
       "    <tr>\n",
       "      <th>NY</th>\n",
       "      <td>1.390980</td>\n",
       "      <td>-1.022536</td>\n",
       "      <td>1.316729</td>\n",
       "      <td>-0.579778</td>\n",
       "    </tr>\n",
       "    <tr>\n",
       "      <th>WY</th>\n",
       "      <td>-1.403237</td>\n",
       "      <td>0.362705</td>\n",
       "      <td>-0.665453</td>\n",
       "      <td>0.459495</td>\n",
       "    </tr>\n",
       "    <tr>\n",
       "      <th>OR</th>\n",
       "      <td>0.748052</td>\n",
       "      <td>0.028593</td>\n",
       "      <td>1.768899</td>\n",
       "      <td>1.687557</td>\n",
       "    </tr>\n",
       "    <tr>\n",
       "      <th>CO</th>\n",
       "      <td>-1.965851</td>\n",
       "      <td>-1.920426</td>\n",
       "      <td>0.163085</td>\n",
       "      <td>0.148634</td>\n",
       "    </tr>\n",
       "  </tbody>\n",
       "</table>\n",
       "</div>"
      ],
      "text/plain": [
       "                   W         X         Y         Z\n",
       "novo_index                                        \n",
       "CA         -0.092088  0.374514  0.369449 -0.727967\n",
       "NY          1.390980 -1.022536  1.316729 -0.579778\n",
       "WY         -1.403237  0.362705 -0.665453  0.459495\n",
       "OR          0.748052  0.028593  1.768899  1.687557\n",
       "CO         -1.965851 -1.920426  0.163085  0.148634"
      ]
     },
     "execution_count": 13,
     "metadata": {},
     "output_type": "execute_result"
    }
   ],
   "source": [
    "#passando sem o reset\n",
    "\n",
    "df.set_index(\"novo_index\")"
   ]
  },
  {
   "cell_type": "code",
   "execution_count": 14,
   "id": "3841855e",
   "metadata": {},
   "outputs": [
    {
     "data": {
      "text/html": [
       "<div>\n",
       "<style scoped>\n",
       "    .dataframe tbody tr th:only-of-type {\n",
       "        vertical-align: middle;\n",
       "    }\n",
       "\n",
       "    .dataframe tbody tr th {\n",
       "        vertical-align: top;\n",
       "    }\n",
       "\n",
       "    .dataframe thead th {\n",
       "        text-align: right;\n",
       "    }\n",
       "</style>\n",
       "<table border=\"1\" class=\"dataframe\">\n",
       "  <thead>\n",
       "    <tr style=\"text-align: right;\">\n",
       "      <th></th>\n",
       "      <th>index</th>\n",
       "      <th>W</th>\n",
       "      <th>X</th>\n",
       "      <th>Y</th>\n",
       "      <th>Z</th>\n",
       "    </tr>\n",
       "    <tr>\n",
       "      <th>novo_index</th>\n",
       "      <th></th>\n",
       "      <th></th>\n",
       "      <th></th>\n",
       "      <th></th>\n",
       "      <th></th>\n",
       "    </tr>\n",
       "  </thead>\n",
       "  <tbody>\n",
       "    <tr>\n",
       "      <th>CA</th>\n",
       "      <td>A</td>\n",
       "      <td>-0.092088</td>\n",
       "      <td>0.374514</td>\n",
       "      <td>0.369449</td>\n",
       "      <td>-0.727967</td>\n",
       "    </tr>\n",
       "    <tr>\n",
       "      <th>NY</th>\n",
       "      <td>B</td>\n",
       "      <td>1.390980</td>\n",
       "      <td>-1.022536</td>\n",
       "      <td>1.316729</td>\n",
       "      <td>-0.579778</td>\n",
       "    </tr>\n",
       "    <tr>\n",
       "      <th>WY</th>\n",
       "      <td>C</td>\n",
       "      <td>-1.403237</td>\n",
       "      <td>0.362705</td>\n",
       "      <td>-0.665453</td>\n",
       "      <td>0.459495</td>\n",
       "    </tr>\n",
       "    <tr>\n",
       "      <th>OR</th>\n",
       "      <td>D</td>\n",
       "      <td>0.748052</td>\n",
       "      <td>0.028593</td>\n",
       "      <td>1.768899</td>\n",
       "      <td>1.687557</td>\n",
       "    </tr>\n",
       "    <tr>\n",
       "      <th>CO</th>\n",
       "      <td>E</td>\n",
       "      <td>-1.965851</td>\n",
       "      <td>-1.920426</td>\n",
       "      <td>0.163085</td>\n",
       "      <td>0.148634</td>\n",
       "    </tr>\n",
       "  </tbody>\n",
       "</table>\n",
       "</div>"
      ],
      "text/plain": [
       "           index         W         X         Y         Z\n",
       "novo_index                                              \n",
       "CA             A -0.092088  0.374514  0.369449 -0.727967\n",
       "NY             B  1.390980 -1.022536  1.316729 -0.579778\n",
       "WY             C -1.403237  0.362705 -0.665453  0.459495\n",
       "OR             D  0.748052  0.028593  1.768899  1.687557\n",
       "CO             E -1.965851 -1.920426  0.163085  0.148634"
      ]
     },
     "execution_count": 14,
     "metadata": {},
     "output_type": "execute_result"
    }
   ],
   "source": [
    "#passando com o reset\n",
    "\n",
    "df.reset_index().set_index(\"novo_index\")"
   ]
  },
  {
   "cell_type": "code",
   "execution_count": null,
   "id": "5f2b2d0f",
   "metadata": {},
   "outputs": [],
   "source": []
  }
 ],
 "metadata": {
  "kernelspec": {
   "display_name": "Python 3 (ipykernel)",
   "language": "python",
   "name": "python3"
  },
  "language_info": {
   "codemirror_mode": {
    "name": "ipython",
    "version": 3
   },
   "file_extension": ".py",
   "mimetype": "text/x-python",
   "name": "python",
   "nbconvert_exporter": "python",
   "pygments_lexer": "ipython3",
   "version": "3.9.6"
  }
 },
 "nbformat": 4,
 "nbformat_minor": 5
}
