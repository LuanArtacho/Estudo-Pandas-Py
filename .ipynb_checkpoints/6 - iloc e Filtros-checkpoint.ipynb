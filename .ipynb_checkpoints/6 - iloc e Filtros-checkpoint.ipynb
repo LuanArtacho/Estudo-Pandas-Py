{
 "cells": [
  {
   "cell_type": "markdown",
   "id": "0734696e",
   "metadata": {},
   "source": [
    "### Iloc e Filtros\n"
   ]
  },
  {
   "cell_type": "code",
   "execution_count": 1,
   "id": "9ebf295f",
   "metadata": {},
   "outputs": [],
   "source": [
    "import pandas as pd\n",
    "import numpy as np\n",
    "from numpy.random import randn"
   ]
  },
  {
   "cell_type": "code",
   "execution_count": 2,
   "id": "2d26885a",
   "metadata": {},
   "outputs": [],
   "source": [
    "df = pd.DataFrame(randn(5, 4), index=[\"A\", \"B\", \"C\", \"D\", \"E\"], columns=\"W X Y Z\".split())\n",
    "# o pd.DataFrame, cria uma 'tabela', com o randn de 5 linhas e 4 colunas de numeros aleatorios.\n",
    "\n",
    "# Metodo Slipt quebra em uma lista de strings"
   ]
  },
  {
   "cell_type": "code",
   "execution_count": 3,
   "id": "101a884e",
   "metadata": {},
   "outputs": [
    {
     "data": {
      "text/html": [
       "<div>\n",
       "<style scoped>\n",
       "    .dataframe tbody tr th:only-of-type {\n",
       "        vertical-align: middle;\n",
       "    }\n",
       "\n",
       "    .dataframe tbody tr th {\n",
       "        vertical-align: top;\n",
       "    }\n",
       "\n",
       "    .dataframe thead th {\n",
       "        text-align: right;\n",
       "    }\n",
       "</style>\n",
       "<table border=\"1\" class=\"dataframe\">\n",
       "  <thead>\n",
       "    <tr style=\"text-align: right;\">\n",
       "      <th></th>\n",
       "      <th>W</th>\n",
       "      <th>X</th>\n",
       "      <th>Y</th>\n",
       "      <th>Z</th>\n",
       "    </tr>\n",
       "  </thead>\n",
       "  <tbody>\n",
       "    <tr>\n",
       "      <th>A</th>\n",
       "      <td>0.851557</td>\n",
       "      <td>-0.899519</td>\n",
       "      <td>-0.861332</td>\n",
       "      <td>0.179909</td>\n",
       "    </tr>\n",
       "    <tr>\n",
       "      <th>B</th>\n",
       "      <td>-0.824758</td>\n",
       "      <td>-0.120078</td>\n",
       "      <td>0.483197</td>\n",
       "      <td>0.661060</td>\n",
       "    </tr>\n",
       "    <tr>\n",
       "      <th>C</th>\n",
       "      <td>0.352806</td>\n",
       "      <td>0.787453</td>\n",
       "      <td>1.371911</td>\n",
       "      <td>-0.791059</td>\n",
       "    </tr>\n",
       "    <tr>\n",
       "      <th>D</th>\n",
       "      <td>0.421288</td>\n",
       "      <td>0.331323</td>\n",
       "      <td>-1.336813</td>\n",
       "      <td>-1.316236</td>\n",
       "    </tr>\n",
       "    <tr>\n",
       "      <th>E</th>\n",
       "      <td>-0.693253</td>\n",
       "      <td>0.099144</td>\n",
       "      <td>1.136027</td>\n",
       "      <td>1.480901</td>\n",
       "    </tr>\n",
       "  </tbody>\n",
       "</table>\n",
       "</div>"
      ],
      "text/plain": [
       "          W         X         Y         Z\n",
       "A  0.851557 -0.899519 -0.861332  0.179909\n",
       "B -0.824758 -0.120078  0.483197  0.661060\n",
       "C  0.352806  0.787453  1.371911 -0.791059\n",
       "D  0.421288  0.331323 -1.336813 -1.316236\n",
       "E -0.693253  0.099144  1.136027  1.480901"
      ]
     },
     "execution_count": 3,
     "metadata": {},
     "output_type": "execute_result"
    }
   ],
   "source": [
    "df\n",
    "# Mostrando a tabela (DataFrame) com os numeros aleatórios"
   ]
  },
  {
   "cell_type": "markdown",
   "id": "ab0b866a",
   "metadata": {},
   "source": [
    "## Seleção em Linhas\n",
    "\n",
    "##### Temos 2 'metodos'(formas de fazer a seleção), loc e iloc."
   ]
  },
  {
   "cell_type": "code",
   "execution_count": 4,
   "id": "5fd79b7b",
   "metadata": {},
   "outputs": [
    {
     "data": {
      "text/plain": [
       "W    0.851557\n",
       "X   -0.899519\n",
       "Y   -0.861332\n",
       "Z    0.179909\n",
       "Name: A, dtype: float64"
      ]
     },
     "execution_count": 4,
     "metadata": {},
     "output_type": "execute_result"
    }
   ],
   "source": [
    "df.loc['A']\n",
    "# loc, acessa as linhas da mesma forma que acessar o indice, Para melhor compreensão observe a tabela acima eo retorno\n",
    "\n",
    "# ele fez uma transposiçao, devolveu as colunas em linhas, devolveu umas Series"
   ]
  },
  {
   "cell_type": "code",
   "execution_count": 5,
   "id": "4bfc08d9",
   "metadata": {},
   "outputs": [
    {
     "data": {
      "text/html": [
       "<div>\n",
       "<style scoped>\n",
       "    .dataframe tbody tr th:only-of-type {\n",
       "        vertical-align: middle;\n",
       "    }\n",
       "\n",
       "    .dataframe tbody tr th {\n",
       "        vertical-align: top;\n",
       "    }\n",
       "\n",
       "    .dataframe thead th {\n",
       "        text-align: right;\n",
       "    }\n",
       "</style>\n",
       "<table border=\"1\" class=\"dataframe\">\n",
       "  <thead>\n",
       "    <tr style=\"text-align: right;\">\n",
       "      <th></th>\n",
       "      <th>W</th>\n",
       "      <th>X</th>\n",
       "      <th>Y</th>\n",
       "      <th>Z</th>\n",
       "    </tr>\n",
       "  </thead>\n",
       "  <tbody>\n",
       "    <tr>\n",
       "      <th>A</th>\n",
       "      <td>0.851557</td>\n",
       "      <td>-0.899519</td>\n",
       "      <td>-0.861332</td>\n",
       "      <td>0.179909</td>\n",
       "    </tr>\n",
       "    <tr>\n",
       "      <th>B</th>\n",
       "      <td>-0.824758</td>\n",
       "      <td>-0.120078</td>\n",
       "      <td>0.483197</td>\n",
       "      <td>0.661060</td>\n",
       "    </tr>\n",
       "  </tbody>\n",
       "</table>\n",
       "</div>"
      ],
      "text/plain": [
       "          W         X         Y         Z\n",
       "A  0.851557 -0.899519 -0.861332  0.179909\n",
       "B -0.824758 -0.120078  0.483197  0.661060"
      ]
     },
     "execution_count": 5,
     "metadata": {},
     "output_type": "execute_result"
    }
   ],
   "source": [
    "df.loc[['A', 'B']]\n",
    "# passando listas\n",
    "\n",
    "# df.loc[['A', 'B'], 'W']\n",
    "# Tudo que vir dps da ',' virgula, passa a se referir as colunas "
   ]
  },
  {
   "cell_type": "code",
   "execution_count": 6,
   "id": "f5b5200f",
   "metadata": {},
   "outputs": [
    {
     "data": {
      "text/plain": [
       "-0.8613322137105563"
      ]
     },
     "execution_count": 6,
     "metadata": {},
     "output_type": "execute_result"
    }
   ],
   "source": [
    "df.iloc[0, 2]\n",
    "# iloc, vou trabalhar com os valores de forma numeria.\n",
    "\n",
    "# posso acessar os elementos, passando indice da Coluna e indice da Linha\n",
    "\n",
    "# Sempre passar o indice da LINHA e dps Coluna"
   ]
  },
  {
   "cell_type": "code",
   "execution_count": 7,
   "id": "19113c71",
   "metadata": {},
   "outputs": [
    {
     "data": {
      "text/html": [
       "<div>\n",
       "<style scoped>\n",
       "    .dataframe tbody tr th:only-of-type {\n",
       "        vertical-align: middle;\n",
       "    }\n",
       "\n",
       "    .dataframe tbody tr th {\n",
       "        vertical-align: top;\n",
       "    }\n",
       "\n",
       "    .dataframe thead th {\n",
       "        text-align: right;\n",
       "    }\n",
       "</style>\n",
       "<table border=\"1\" class=\"dataframe\">\n",
       "  <thead>\n",
       "    <tr style=\"text-align: right;\">\n",
       "      <th></th>\n",
       "      <th>W</th>\n",
       "    </tr>\n",
       "  </thead>\n",
       "  <tbody>\n",
       "    <tr>\n",
       "      <th>A</th>\n",
       "      <td>0.851557</td>\n",
       "    </tr>\n",
       "    <tr>\n",
       "      <th>B</th>\n",
       "      <td>-0.824758</td>\n",
       "    </tr>\n",
       "  </tbody>\n",
       "</table>\n",
       "</div>"
      ],
      "text/plain": [
       "          W\n",
       "A  0.851557\n",
       "B -0.824758"
      ]
     },
     "execution_count": 7,
     "metadata": {},
     "output_type": "execute_result"
    }
   ],
   "source": [
    "df.loc[['A', 'B'], ['W']] # retorna no formato de DataFrame\n",
    "\n",
    "# df.loc[['A', 'B'], 'W'] # retorna no formato de Series\n",
    "\n",
    "# passando as linhas e pegando o resultado apenas da coluna 'W'"
   ]
  },
  {
   "cell_type": "code",
   "execution_count": 8,
   "id": "6cecea35",
   "metadata": {},
   "outputs": [
    {
     "data": {
      "text/html": [
       "<div>\n",
       "<style scoped>\n",
       "    .dataframe tbody tr th:only-of-type {\n",
       "        vertical-align: middle;\n",
       "    }\n",
       "\n",
       "    .dataframe tbody tr th {\n",
       "        vertical-align: top;\n",
       "    }\n",
       "\n",
       "    .dataframe thead th {\n",
       "        text-align: right;\n",
       "    }\n",
       "</style>\n",
       "<table border=\"1\" class=\"dataframe\">\n",
       "  <thead>\n",
       "    <tr style=\"text-align: right;\">\n",
       "      <th></th>\n",
       "      <th>W</th>\n",
       "      <th>X</th>\n",
       "      <th>Y</th>\n",
       "      <th>Z</th>\n",
       "    </tr>\n",
       "  </thead>\n",
       "  <tbody>\n",
       "    <tr>\n",
       "      <th>A</th>\n",
       "      <td>0.851557</td>\n",
       "      <td>-0.899519</td>\n",
       "      <td>-0.861332</td>\n",
       "      <td>0.179909</td>\n",
       "    </tr>\n",
       "    <tr>\n",
       "      <th>B</th>\n",
       "      <td>-0.824758</td>\n",
       "      <td>-0.120078</td>\n",
       "      <td>0.483197</td>\n",
       "      <td>0.661060</td>\n",
       "    </tr>\n",
       "    <tr>\n",
       "      <th>C</th>\n",
       "      <td>0.352806</td>\n",
       "      <td>0.787453</td>\n",
       "      <td>1.371911</td>\n",
       "      <td>-0.791059</td>\n",
       "    </tr>\n",
       "    <tr>\n",
       "      <th>D</th>\n",
       "      <td>0.421288</td>\n",
       "      <td>0.331323</td>\n",
       "      <td>-1.336813</td>\n",
       "      <td>-1.316236</td>\n",
       "    </tr>\n",
       "    <tr>\n",
       "      <th>E</th>\n",
       "      <td>-0.693253</td>\n",
       "      <td>0.099144</td>\n",
       "      <td>1.136027</td>\n",
       "      <td>1.480901</td>\n",
       "    </tr>\n",
       "  </tbody>\n",
       "</table>\n",
       "</div>"
      ],
      "text/plain": [
       "          W         X         Y         Z\n",
       "A  0.851557 -0.899519 -0.861332  0.179909\n",
       "B -0.824758 -0.120078  0.483197  0.661060\n",
       "C  0.352806  0.787453  1.371911 -0.791059\n",
       "D  0.421288  0.331323 -1.336813 -1.316236\n",
       "E -0.693253  0.099144  1.136027  1.480901"
      ]
     },
     "execution_count": 8,
     "metadata": {},
     "output_type": "execute_result"
    }
   ],
   "source": [
    "df"
   ]
  },
  {
   "cell_type": "code",
   "execution_count": 9,
   "id": "42566ec4",
   "metadata": {},
   "outputs": [
    {
     "data": {
      "text/html": [
       "<div>\n",
       "<style scoped>\n",
       "    .dataframe tbody tr th:only-of-type {\n",
       "        vertical-align: middle;\n",
       "    }\n",
       "\n",
       "    .dataframe tbody tr th {\n",
       "        vertical-align: top;\n",
       "    }\n",
       "\n",
       "    .dataframe thead th {\n",
       "        text-align: right;\n",
       "    }\n",
       "</style>\n",
       "<table border=\"1\" class=\"dataframe\">\n",
       "  <thead>\n",
       "    <tr style=\"text-align: right;\">\n",
       "      <th></th>\n",
       "      <th>W</th>\n",
       "      <th>X</th>\n",
       "      <th>Y</th>\n",
       "      <th>Z</th>\n",
       "    </tr>\n",
       "  </thead>\n",
       "  <tbody>\n",
       "    <tr>\n",
       "      <th>A</th>\n",
       "      <td>0.851557</td>\n",
       "      <td>-0.899519</td>\n",
       "      <td>-0.861332</td>\n",
       "      <td>0.179909</td>\n",
       "    </tr>\n",
       "    <tr>\n",
       "      <th>B</th>\n",
       "      <td>-0.824758</td>\n",
       "      <td>-0.120078</td>\n",
       "      <td>0.483197</td>\n",
       "      <td>0.661060</td>\n",
       "    </tr>\n",
       "    <tr>\n",
       "      <th>C</th>\n",
       "      <td>0.352806</td>\n",
       "      <td>0.787453</td>\n",
       "      <td>1.371911</td>\n",
       "      <td>-0.791059</td>\n",
       "    </tr>\n",
       "    <tr>\n",
       "      <th>D</th>\n",
       "      <td>0.421288</td>\n",
       "      <td>0.331323</td>\n",
       "      <td>-1.336813</td>\n",
       "      <td>-1.316236</td>\n",
       "    </tr>\n",
       "  </tbody>\n",
       "</table>\n",
       "</div>"
      ],
      "text/plain": [
       "          W         X         Y         Z\n",
       "A  0.851557 -0.899519 -0.861332  0.179909\n",
       "B -0.824758 -0.120078  0.483197  0.661060\n",
       "C  0.352806  0.787453  1.371911 -0.791059\n",
       "D  0.421288  0.331323 -1.336813 -1.316236"
      ]
     },
     "execution_count": 9,
     "metadata": {},
     "output_type": "execute_result"
    }
   ],
   "source": [
    "df.iloc[:-1, :]\n",
    "# :-1 (o ':' representa para pegar toda a coluna, o '-1' para tirar a ultima coluna)"
   ]
  },
  {
   "cell_type": "code",
   "execution_count": 10,
   "id": "2f6fd63f",
   "metadata": {},
   "outputs": [
    {
     "data": {
      "text/html": [
       "<div>\n",
       "<style scoped>\n",
       "    .dataframe tbody tr th:only-of-type {\n",
       "        vertical-align: middle;\n",
       "    }\n",
       "\n",
       "    .dataframe tbody tr th {\n",
       "        vertical-align: top;\n",
       "    }\n",
       "\n",
       "    .dataframe thead th {\n",
       "        text-align: right;\n",
       "    }\n",
       "</style>\n",
       "<table border=\"1\" class=\"dataframe\">\n",
       "  <thead>\n",
       "    <tr style=\"text-align: right;\">\n",
       "      <th></th>\n",
       "      <th>X</th>\n",
       "      <th>Y</th>\n",
       "    </tr>\n",
       "  </thead>\n",
       "  <tbody>\n",
       "    <tr>\n",
       "      <th>B</th>\n",
       "      <td>-0.120078</td>\n",
       "      <td>0.483197</td>\n",
       "    </tr>\n",
       "    <tr>\n",
       "      <th>C</th>\n",
       "      <td>0.787453</td>\n",
       "      <td>1.371911</td>\n",
       "    </tr>\n",
       "    <tr>\n",
       "      <th>D</th>\n",
       "      <td>0.331323</td>\n",
       "      <td>-1.336813</td>\n",
       "    </tr>\n",
       "  </tbody>\n",
       "</table>\n",
       "</div>"
      ],
      "text/plain": [
       "          X         Y\n",
       "B -0.120078  0.483197\n",
       "C  0.787453  1.371911\n",
       "D  0.331323 -1.336813"
      ]
     },
     "execution_count": 10,
     "metadata": {},
     "output_type": "execute_result"
    }
   ],
   "source": [
    "df.iloc[1:4, 1:3]\n",
    "# ele nao pega o ultimo valor, dps dos ':'... so olhar o ex: 1(o 0 seria linha A, a linha 1 é B), o 4 seria linha E, mas nn pega.. vai só até a D\n",
    "# tudo que eu incluo antes dos ':', vai ser incluso na seleçao\n",
    " \n",
    "# Isso é util para usar em um DataFrame que contenha informações matriciais, "
   ]
  },
  {
   "cell_type": "code",
   "execution_count": 12,
   "id": "d560ef2d",
   "metadata": {},
   "outputs": [
    {
     "data": {
      "text/html": [
       "<div>\n",
       "<style scoped>\n",
       "    .dataframe tbody tr th:only-of-type {\n",
       "        vertical-align: middle;\n",
       "    }\n",
       "\n",
       "    .dataframe tbody tr th {\n",
       "        vertical-align: top;\n",
       "    }\n",
       "\n",
       "    .dataframe thead th {\n",
       "        text-align: right;\n",
       "    }\n",
       "</style>\n",
       "<table border=\"1\" class=\"dataframe\">\n",
       "  <thead>\n",
       "    <tr style=\"text-align: right;\">\n",
       "      <th></th>\n",
       "      <th>W</th>\n",
       "      <th>X</th>\n",
       "      <th>Y</th>\n",
       "      <th>Z</th>\n",
       "    </tr>\n",
       "  </thead>\n",
       "  <tbody>\n",
       "    <tr>\n",
       "      <th>A</th>\n",
       "      <td>1.703115</td>\n",
       "      <td>-1.799038</td>\n",
       "      <td>-1.722664</td>\n",
       "      <td>0.359817</td>\n",
       "    </tr>\n",
       "    <tr>\n",
       "      <th>B</th>\n",
       "      <td>-1.649516</td>\n",
       "      <td>-0.240156</td>\n",
       "      <td>0.966394</td>\n",
       "      <td>1.322119</td>\n",
       "    </tr>\n",
       "    <tr>\n",
       "      <th>C</th>\n",
       "      <td>0.705612</td>\n",
       "      <td>1.574907</td>\n",
       "      <td>2.743823</td>\n",
       "      <td>-1.582118</td>\n",
       "    </tr>\n",
       "    <tr>\n",
       "      <th>D</th>\n",
       "      <td>0.842577</td>\n",
       "      <td>0.662646</td>\n",
       "      <td>-2.673625</td>\n",
       "      <td>-2.632472</td>\n",
       "    </tr>\n",
       "    <tr>\n",
       "      <th>E</th>\n",
       "      <td>-1.386507</td>\n",
       "      <td>0.198287</td>\n",
       "      <td>2.272055</td>\n",
       "      <td>2.961801</td>\n",
       "    </tr>\n",
       "  </tbody>\n",
       "</table>\n",
       "</div>"
      ],
      "text/plain": [
       "          W         X         Y         Z\n",
       "A  1.703115 -1.799038 -1.722664  0.359817\n",
       "B -1.649516 -0.240156  0.966394  1.322119\n",
       "C  0.705612  1.574907  2.743823 -1.582118\n",
       "D  0.842577  0.662646 -2.673625 -2.632472\n",
       "E -1.386507  0.198287  2.272055  2.961801"
      ]
     },
     "execution_count": 12,
     "metadata": {},
     "output_type": "execute_result"
    }
   ],
   "source": [
    "df + df\n",
    "# Faz as somas dos DataFrame"
   ]
  },
  {
   "cell_type": "code",
   "execution_count": 13,
   "id": "66ffa63b",
   "metadata": {},
   "outputs": [
    {
     "data": {
      "text/html": [
       "<div>\n",
       "<style scoped>\n",
       "    .dataframe tbody tr th:only-of-type {\n",
       "        vertical-align: middle;\n",
       "    }\n",
       "\n",
       "    .dataframe tbody tr th {\n",
       "        vertical-align: top;\n",
       "    }\n",
       "\n",
       "    .dataframe thead th {\n",
       "        text-align: right;\n",
       "    }\n",
       "</style>\n",
       "<table border=\"1\" class=\"dataframe\">\n",
       "  <thead>\n",
       "    <tr style=\"text-align: right;\">\n",
       "      <th></th>\n",
       "      <th>W</th>\n",
       "      <th>X</th>\n",
       "      <th>Y</th>\n",
       "      <th>Z</th>\n",
       "    </tr>\n",
       "  </thead>\n",
       "  <tbody>\n",
       "    <tr>\n",
       "      <th>A</th>\n",
       "      <td>True</td>\n",
       "      <td>False</td>\n",
       "      <td>False</td>\n",
       "      <td>True</td>\n",
       "    </tr>\n",
       "    <tr>\n",
       "      <th>B</th>\n",
       "      <td>False</td>\n",
       "      <td>False</td>\n",
       "      <td>True</td>\n",
       "      <td>True</td>\n",
       "    </tr>\n",
       "    <tr>\n",
       "      <th>C</th>\n",
       "      <td>True</td>\n",
       "      <td>True</td>\n",
       "      <td>True</td>\n",
       "      <td>False</td>\n",
       "    </tr>\n",
       "    <tr>\n",
       "      <th>D</th>\n",
       "      <td>True</td>\n",
       "      <td>True</td>\n",
       "      <td>False</td>\n",
       "      <td>False</td>\n",
       "    </tr>\n",
       "    <tr>\n",
       "      <th>E</th>\n",
       "      <td>False</td>\n",
       "      <td>True</td>\n",
       "      <td>True</td>\n",
       "      <td>True</td>\n",
       "    </tr>\n",
       "  </tbody>\n",
       "</table>\n",
       "</div>"
      ],
      "text/plain": [
       "       W      X      Y      Z\n",
       "A   True  False  False   True\n",
       "B  False  False   True   True\n",
       "C   True   True   True  False\n",
       "D   True   True  False  False\n",
       "E  False   True   True   True"
      ]
     },
     "execution_count": 13,
     "metadata": {},
     "output_type": "execute_result"
    }
   ],
   "source": [
    "df > 0\n",
    "# retorna os dados(valores) que 0 como TRUE"
   ]
  },
  {
   "cell_type": "code",
   "execution_count": 14,
   "id": "bf050262",
   "metadata": {},
   "outputs": [
    {
     "data": {
      "text/html": [
       "<div>\n",
       "<style scoped>\n",
       "    .dataframe tbody tr th:only-of-type {\n",
       "        vertical-align: middle;\n",
       "    }\n",
       "\n",
       "    .dataframe tbody tr th {\n",
       "        vertical-align: top;\n",
       "    }\n",
       "\n",
       "    .dataframe thead th {\n",
       "        text-align: right;\n",
       "    }\n",
       "</style>\n",
       "<table border=\"1\" class=\"dataframe\">\n",
       "  <thead>\n",
       "    <tr style=\"text-align: right;\">\n",
       "      <th></th>\n",
       "      <th>W</th>\n",
       "      <th>X</th>\n",
       "      <th>Y</th>\n",
       "      <th>Z</th>\n",
       "    </tr>\n",
       "  </thead>\n",
       "  <tbody>\n",
       "    <tr>\n",
       "      <th>A</th>\n",
       "      <td>0.851557</td>\n",
       "      <td>NaN</td>\n",
       "      <td>NaN</td>\n",
       "      <td>0.179909</td>\n",
       "    </tr>\n",
       "    <tr>\n",
       "      <th>B</th>\n",
       "      <td>NaN</td>\n",
       "      <td>NaN</td>\n",
       "      <td>0.483197</td>\n",
       "      <td>0.661060</td>\n",
       "    </tr>\n",
       "    <tr>\n",
       "      <th>C</th>\n",
       "      <td>0.352806</td>\n",
       "      <td>0.787453</td>\n",
       "      <td>1.371911</td>\n",
       "      <td>NaN</td>\n",
       "    </tr>\n",
       "    <tr>\n",
       "      <th>D</th>\n",
       "      <td>0.421288</td>\n",
       "      <td>0.331323</td>\n",
       "      <td>NaN</td>\n",
       "      <td>NaN</td>\n",
       "    </tr>\n",
       "    <tr>\n",
       "      <th>E</th>\n",
       "      <td>NaN</td>\n",
       "      <td>0.099144</td>\n",
       "      <td>1.136027</td>\n",
       "      <td>1.480901</td>\n",
       "    </tr>\n",
       "  </tbody>\n",
       "</table>\n",
       "</div>"
      ],
      "text/plain": [
       "          W         X         Y         Z\n",
       "A  0.851557       NaN       NaN  0.179909\n",
       "B       NaN       NaN  0.483197  0.661060\n",
       "C  0.352806  0.787453  1.371911       NaN\n",
       "D  0.421288  0.331323       NaN       NaN\n",
       "E       NaN  0.099144  1.136027  1.480901"
      ]
     },
     "execution_count": 14,
     "metadata": {},
     "output_type": "execute_result"
    }
   ],
   "source": [
    "df[df > 0]\n",
    "# Retorna um DataFrame que contem os dados maiores que 0"
   ]
  },
  {
   "cell_type": "code",
   "execution_count": 15,
   "id": "ed7b2a08",
   "metadata": {},
   "outputs": [
    {
     "data": {
      "text/plain": [
       "A     True\n",
       "B     True\n",
       "C    False\n",
       "D    False\n",
       "E     True\n",
       "Name: Z, dtype: bool"
      ]
     },
     "execution_count": 15,
     "metadata": {},
     "output_type": "execute_result"
    }
   ],
   "source": [
    "df['Z'] > 0"
   ]
  },
  {
   "cell_type": "code",
   "execution_count": 16,
   "id": "81fc8429",
   "metadata": {},
   "outputs": [
    {
     "data": {
      "text/html": [
       "<div>\n",
       "<style scoped>\n",
       "    .dataframe tbody tr th:only-of-type {\n",
       "        vertical-align: middle;\n",
       "    }\n",
       "\n",
       "    .dataframe tbody tr th {\n",
       "        vertical-align: top;\n",
       "    }\n",
       "\n",
       "    .dataframe thead th {\n",
       "        text-align: right;\n",
       "    }\n",
       "</style>\n",
       "<table border=\"1\" class=\"dataframe\">\n",
       "  <thead>\n",
       "    <tr style=\"text-align: right;\">\n",
       "      <th></th>\n",
       "      <th>W</th>\n",
       "      <th>X</th>\n",
       "      <th>Y</th>\n",
       "      <th>Z</th>\n",
       "    </tr>\n",
       "  </thead>\n",
       "  <tbody>\n",
       "    <tr>\n",
       "      <th>B</th>\n",
       "      <td>-0.824758</td>\n",
       "      <td>-0.120078</td>\n",
       "      <td>0.483197</td>\n",
       "      <td>0.661060</td>\n",
       "    </tr>\n",
       "    <tr>\n",
       "      <th>C</th>\n",
       "      <td>0.352806</td>\n",
       "      <td>0.787453</td>\n",
       "      <td>1.371911</td>\n",
       "      <td>-0.791059</td>\n",
       "    </tr>\n",
       "    <tr>\n",
       "      <th>E</th>\n",
       "      <td>-0.693253</td>\n",
       "      <td>0.099144</td>\n",
       "      <td>1.136027</td>\n",
       "      <td>1.480901</td>\n",
       "    </tr>\n",
       "  </tbody>\n",
       "</table>\n",
       "</div>"
      ],
      "text/plain": [
       "          W         X         Y         Z\n",
       "B -0.824758 -0.120078  0.483197  0.661060\n",
       "C  0.352806  0.787453  1.371911 -0.791059\n",
       "E -0.693253  0.099144  1.136027  1.480901"
      ]
     },
     "execution_count": 16,
     "metadata": {},
     "output_type": "execute_result"
    }
   ],
   "source": [
    "df[df['Y'] > 0]\n",
    "# Retorna um DataDrame que na coluna Y seja maior que 0, PARA MELHOR ENTENDIMENTO COMPARE COM O DATAFRAME PADRAO."
   ]
  },
  {
   "cell_type": "code",
   "execution_count": 17,
   "id": "2eafb0c5",
   "metadata": {},
   "outputs": [
    {
     "data": {
      "text/plain": [
       "A    False\n",
       "B    False\n",
       "C     True\n",
       "D    False\n",
       "E    False\n",
       "dtype: bool"
      ]
     },
     "execution_count": 17,
     "metadata": {},
     "output_type": "execute_result"
    }
   ],
   "source": [
    "df[(df['Y'] > 0) & (df['W'] > 0)]\n",
    "(df['Y'] > 0) & (df['W'] > 0)\n",
    "# So retorna TRUE onde as 2 colunas 'Y' e 'W', forem >(maior) que 0"
   ]
  },
  {
   "cell_type": "code",
   "execution_count": null,
   "id": "d47d9367",
   "metadata": {},
   "outputs": [],
   "source": []
  },
  {
   "cell_type": "code",
   "execution_count": null,
   "id": "608f0b01",
   "metadata": {},
   "outputs": [],
   "source": []
  },
  {
   "cell_type": "code",
   "execution_count": null,
   "id": "040dc6fd",
   "metadata": {},
   "outputs": [],
   "source": []
  },
  {
   "cell_type": "code",
   "execution_count": null,
   "id": "adf314cb",
   "metadata": {},
   "outputs": [],
   "source": []
  }
 ],
 "metadata": {
  "kernelspec": {
   "display_name": "Python 3 (ipykernel)",
   "language": "python",
   "name": "python3"
  },
  "language_info": {
   "codemirror_mode": {
    "name": "ipython",
    "version": 3
   },
   "file_extension": ".py",
   "mimetype": "text/x-python",
   "name": "python",
   "nbconvert_exporter": "python",
   "pygments_lexer": "ipython3",
   "version": "3.9.6"
  }
 },
 "nbformat": 4,
 "nbformat_minor": 5
}
