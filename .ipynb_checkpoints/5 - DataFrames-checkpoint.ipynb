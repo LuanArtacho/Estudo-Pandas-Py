{
 "cells": [
  {
   "cell_type": "markdown",
   "id": "5d6a5465",
   "metadata": {},
   "source": [
    "# Data Frames"
   ]
  },
  {
   "cell_type": "code",
   "execution_count": 1,
   "id": "68547d9f",
   "metadata": {},
   "outputs": [],
   "source": [
    "import pandas as pd\n",
    "import numpy as np\n",
    "from numpy.random import randn"
   ]
  },
  {
   "cell_type": "code",
   "execution_count": 2,
   "id": "711c7b6a",
   "metadata": {},
   "outputs": [],
   "source": [
    "df = pd.DataFrame(randn(5, 4), index=[\"A\", \"B\", \"C\", \"D\", \"E\"], columns=\"W X Y Z\".split())\n",
    "# o pd.DataFrame, cria uma 'tabela', com o randn de 5 linhas e 4 colunas de numeros aleatorios.\n",
    "\n",
    "# Metodo Slipt quebra em uma lista de strings"
   ]
  },
  {
   "cell_type": "code",
   "execution_count": 3,
   "id": "1f3e1435",
   "metadata": {},
   "outputs": [
    {
     "data": {
      "text/html": [
       "<div>\n",
       "<style scoped>\n",
       "    .dataframe tbody tr th:only-of-type {\n",
       "        vertical-align: middle;\n",
       "    }\n",
       "\n",
       "    .dataframe tbody tr th {\n",
       "        vertical-align: top;\n",
       "    }\n",
       "\n",
       "    .dataframe thead th {\n",
       "        text-align: right;\n",
       "    }\n",
       "</style>\n",
       "<table border=\"1\" class=\"dataframe\">\n",
       "  <thead>\n",
       "    <tr style=\"text-align: right;\">\n",
       "      <th></th>\n",
       "      <th>W</th>\n",
       "      <th>X</th>\n",
       "      <th>Y</th>\n",
       "      <th>Z</th>\n",
       "    </tr>\n",
       "  </thead>\n",
       "  <tbody>\n",
       "    <tr>\n",
       "      <th>A</th>\n",
       "      <td>-0.163009</td>\n",
       "      <td>-0.095575</td>\n",
       "      <td>-1.080349</td>\n",
       "      <td>-0.207306</td>\n",
       "    </tr>\n",
       "    <tr>\n",
       "      <th>B</th>\n",
       "      <td>-1.355783</td>\n",
       "      <td>2.344705</td>\n",
       "      <td>0.298775</td>\n",
       "      <td>0.848239</td>\n",
       "    </tr>\n",
       "    <tr>\n",
       "      <th>C</th>\n",
       "      <td>0.740109</td>\n",
       "      <td>0.436661</td>\n",
       "      <td>-1.622706</td>\n",
       "      <td>2.110510</td>\n",
       "    </tr>\n",
       "    <tr>\n",
       "      <th>D</th>\n",
       "      <td>-0.713081</td>\n",
       "      <td>1.818529</td>\n",
       "      <td>0.527633</td>\n",
       "      <td>0.277916</td>\n",
       "    </tr>\n",
       "    <tr>\n",
       "      <th>E</th>\n",
       "      <td>-1.453239</td>\n",
       "      <td>-1.320915</td>\n",
       "      <td>1.775528</td>\n",
       "      <td>-0.859121</td>\n",
       "    </tr>\n",
       "  </tbody>\n",
       "</table>\n",
       "</div>"
      ],
      "text/plain": [
       "          W         X         Y         Z\n",
       "A -0.163009 -0.095575 -1.080349 -0.207306\n",
       "B -1.355783  2.344705  0.298775  0.848239\n",
       "C  0.740109  0.436661 -1.622706  2.110510\n",
       "D -0.713081  1.818529  0.527633  0.277916\n",
       "E -1.453239 -1.320915  1.775528 -0.859121"
      ]
     },
     "execution_count": 3,
     "metadata": {},
     "output_type": "execute_result"
    }
   ],
   "source": [
    "df\n",
    "# Mostrando a tabela (DataFrame) com os numeros aleatórios"
   ]
  },
  {
   "cell_type": "code",
   "execution_count": 4,
   "id": "d4080a8e",
   "metadata": {},
   "outputs": [
    {
     "data": {
      "text/plain": [
       "pandas.core.frame.DataFrame"
      ]
     },
     "execution_count": 4,
     "metadata": {},
     "output_type": "execute_result"
    }
   ],
   "source": [
    "type(df)\n",
    "# mostra o tipo"
   ]
  },
  {
   "cell_type": "code",
   "execution_count": 5,
   "id": "e62506e7",
   "metadata": {},
   "outputs": [
    {
     "data": {
      "text/plain": [
       "A   -0.163009\n",
       "B   -1.355783\n",
       "C    0.740109\n",
       "D   -0.713081\n",
       "E   -1.453239\n",
       "Name: W, dtype: float64"
      ]
     },
     "execution_count": 5,
     "metadata": {},
     "output_type": "execute_result"
    }
   ],
   "source": [
    "# Quando estou trabalhando com Series, tenho que especificar o *Indice* na seleçao de []\n",
    "\n",
    "# Quando trabalhar com DataFrames, especificar a *Coluna* na seleção de [], ex abaixo:\n",
    "\n",
    "df['W']\n",
    "# type(df['W']) # mostra que é uma Series\n",
    "\n",
    "# df[['W']] # Me retorna no formado de DataFrame, por padrão é Series, mas fznd uma força retorna em DF"
   ]
  },
  {
   "cell_type": "code",
   "execution_count": 6,
   "id": "7db72d92",
   "metadata": {},
   "outputs": [
    {
     "data": {
      "text/html": [
       "<div>\n",
       "<style scoped>\n",
       "    .dataframe tbody tr th:only-of-type {\n",
       "        vertical-align: middle;\n",
       "    }\n",
       "\n",
       "    .dataframe tbody tr th {\n",
       "        vertical-align: top;\n",
       "    }\n",
       "\n",
       "    .dataframe thead th {\n",
       "        text-align: right;\n",
       "    }\n",
       "</style>\n",
       "<table border=\"1\" class=\"dataframe\">\n",
       "  <thead>\n",
       "    <tr style=\"text-align: right;\">\n",
       "      <th></th>\n",
       "      <th>W</th>\n",
       "      <th>X</th>\n",
       "    </tr>\n",
       "  </thead>\n",
       "  <tbody>\n",
       "    <tr>\n",
       "      <th>A</th>\n",
       "      <td>-0.163009</td>\n",
       "      <td>-0.095575</td>\n",
       "    </tr>\n",
       "    <tr>\n",
       "      <th>B</th>\n",
       "      <td>-1.355783</td>\n",
       "      <td>2.344705</td>\n",
       "    </tr>\n",
       "    <tr>\n",
       "      <th>C</th>\n",
       "      <td>0.740109</td>\n",
       "      <td>0.436661</td>\n",
       "    </tr>\n",
       "    <tr>\n",
       "      <th>D</th>\n",
       "      <td>-0.713081</td>\n",
       "      <td>1.818529</td>\n",
       "    </tr>\n",
       "    <tr>\n",
       "      <th>E</th>\n",
       "      <td>-1.453239</td>\n",
       "      <td>-1.320915</td>\n",
       "    </tr>\n",
       "  </tbody>\n",
       "</table>\n",
       "</div>"
      ],
      "text/plain": [
       "          W         X\n",
       "A -0.163009 -0.095575\n",
       "B -1.355783  2.344705\n",
       "C  0.740109  0.436661\n",
       "D -0.713081  1.818529\n",
       "E -1.453239 -1.320915"
      ]
     },
     "execution_count": 6,
     "metadata": {},
     "output_type": "execute_result"
    }
   ],
   "source": [
    "df[['W', 'X']]\n",
    "\n",
    "# Passando como lista"
   ]
  },
  {
   "cell_type": "code",
   "execution_count": 7,
   "id": "0580d7b8",
   "metadata": {},
   "outputs": [],
   "source": [
    "df[\"new\"] = df['W'] + df['Y']\n",
    "\n",
    "# Pedindo para o DataFrame criar a coluna 'new' com a soma dos valores das Colunas W + Y\n",
    "\n",
    "# df[\"new\"] = df['W'] # Cria uma copia de 'W' para 'new'"
   ]
  },
  {
   "cell_type": "code",
   "execution_count": 8,
   "id": "f4fa16ee",
   "metadata": {},
   "outputs": [
    {
     "data": {
      "text/html": [
       "<div>\n",
       "<style scoped>\n",
       "    .dataframe tbody tr th:only-of-type {\n",
       "        vertical-align: middle;\n",
       "    }\n",
       "\n",
       "    .dataframe tbody tr th {\n",
       "        vertical-align: top;\n",
       "    }\n",
       "\n",
       "    .dataframe thead th {\n",
       "        text-align: right;\n",
       "    }\n",
       "</style>\n",
       "<table border=\"1\" class=\"dataframe\">\n",
       "  <thead>\n",
       "    <tr style=\"text-align: right;\">\n",
       "      <th></th>\n",
       "      <th>W</th>\n",
       "      <th>X</th>\n",
       "      <th>Y</th>\n",
       "      <th>Z</th>\n",
       "      <th>new</th>\n",
       "    </tr>\n",
       "  </thead>\n",
       "  <tbody>\n",
       "    <tr>\n",
       "      <th>A</th>\n",
       "      <td>-0.163009</td>\n",
       "      <td>-0.095575</td>\n",
       "      <td>-1.080349</td>\n",
       "      <td>-0.207306</td>\n",
       "      <td>-1.243358</td>\n",
       "    </tr>\n",
       "    <tr>\n",
       "      <th>B</th>\n",
       "      <td>-1.355783</td>\n",
       "      <td>2.344705</td>\n",
       "      <td>0.298775</td>\n",
       "      <td>0.848239</td>\n",
       "      <td>-1.057009</td>\n",
       "    </tr>\n",
       "    <tr>\n",
       "      <th>C</th>\n",
       "      <td>0.740109</td>\n",
       "      <td>0.436661</td>\n",
       "      <td>-1.622706</td>\n",
       "      <td>2.110510</td>\n",
       "      <td>-0.882597</td>\n",
       "    </tr>\n",
       "    <tr>\n",
       "      <th>D</th>\n",
       "      <td>-0.713081</td>\n",
       "      <td>1.818529</td>\n",
       "      <td>0.527633</td>\n",
       "      <td>0.277916</td>\n",
       "      <td>-0.185448</td>\n",
       "    </tr>\n",
       "    <tr>\n",
       "      <th>E</th>\n",
       "      <td>-1.453239</td>\n",
       "      <td>-1.320915</td>\n",
       "      <td>1.775528</td>\n",
       "      <td>-0.859121</td>\n",
       "      <td>0.322288</td>\n",
       "    </tr>\n",
       "  </tbody>\n",
       "</table>\n",
       "</div>"
      ],
      "text/plain": [
       "          W         X         Y         Z       new\n",
       "A -0.163009 -0.095575 -1.080349 -0.207306 -1.243358\n",
       "B -1.355783  2.344705  0.298775  0.848239 -1.057009\n",
       "C  0.740109  0.436661 -1.622706  2.110510 -0.882597\n",
       "D -0.713081  1.818529  0.527633  0.277916 -0.185448\n",
       "E -1.453239 -1.320915  1.775528 -0.859121  0.322288"
      ]
     },
     "execution_count": 8,
     "metadata": {},
     "output_type": "execute_result"
    }
   ],
   "source": [
    "df"
   ]
  },
  {
   "cell_type": "markdown",
   "id": "50b074c5",
   "metadata": {},
   "source": [
    "### Como Remover Colunas"
   ]
  },
  {
   "cell_type": "code",
   "execution_count": 9,
   "id": "9613daa6",
   "metadata": {},
   "outputs": [],
   "source": [
    "#del df[\"new\"]\n",
    "# del do python, ele vai tirar ela"
   ]
  },
  {
   "cell_type": "code",
   "execution_count": 10,
   "id": "cb868807",
   "metadata": {
    "scrolled": true
   },
   "outputs": [
    {
     "data": {
      "text/html": [
       "<div>\n",
       "<style scoped>\n",
       "    .dataframe tbody tr th:only-of-type {\n",
       "        vertical-align: middle;\n",
       "    }\n",
       "\n",
       "    .dataframe tbody tr th {\n",
       "        vertical-align: top;\n",
       "    }\n",
       "\n",
       "    .dataframe thead th {\n",
       "        text-align: right;\n",
       "    }\n",
       "</style>\n",
       "<table border=\"1\" class=\"dataframe\">\n",
       "  <thead>\n",
       "    <tr style=\"text-align: right;\">\n",
       "      <th></th>\n",
       "      <th>W</th>\n",
       "      <th>X</th>\n",
       "      <th>Y</th>\n",
       "      <th>Z</th>\n",
       "    </tr>\n",
       "  </thead>\n",
       "  <tbody>\n",
       "    <tr>\n",
       "      <th>A</th>\n",
       "      <td>-0.163009</td>\n",
       "      <td>-0.095575</td>\n",
       "      <td>-1.080349</td>\n",
       "      <td>-0.207306</td>\n",
       "    </tr>\n",
       "    <tr>\n",
       "      <th>B</th>\n",
       "      <td>-1.355783</td>\n",
       "      <td>2.344705</td>\n",
       "      <td>0.298775</td>\n",
       "      <td>0.848239</td>\n",
       "    </tr>\n",
       "    <tr>\n",
       "      <th>C</th>\n",
       "      <td>0.740109</td>\n",
       "      <td>0.436661</td>\n",
       "      <td>-1.622706</td>\n",
       "      <td>2.110510</td>\n",
       "    </tr>\n",
       "    <tr>\n",
       "      <th>D</th>\n",
       "      <td>-0.713081</td>\n",
       "      <td>1.818529</td>\n",
       "      <td>0.527633</td>\n",
       "      <td>0.277916</td>\n",
       "    </tr>\n",
       "    <tr>\n",
       "      <th>E</th>\n",
       "      <td>-1.453239</td>\n",
       "      <td>-1.320915</td>\n",
       "      <td>1.775528</td>\n",
       "      <td>-0.859121</td>\n",
       "    </tr>\n",
       "  </tbody>\n",
       "</table>\n",
       "</div>"
      ],
      "text/plain": [
       "          W         X         Y         Z\n",
       "A -0.163009 -0.095575 -1.080349 -0.207306\n",
       "B -1.355783  2.344705  0.298775  0.848239\n",
       "C  0.740109  0.436661 -1.622706  2.110510\n",
       "D -0.713081  1.818529  0.527633  0.277916\n",
       "E -1.453239 -1.320915  1.775528 -0.859121"
      ]
     },
     "execution_count": 10,
     "metadata": {},
     "output_type": "execute_result"
    }
   ],
   "source": [
    "df.drop(['new'], axis=1)\n",
    "# drop conseguimos tirar linhas ou colunas, mas por Padrão ele tira Colunas\n",
    "\n",
    "# axis é o eixo, 1 corresponde a Colunas e 0 a Linhas\n",
    "\n",
    "# ele 'deletou'... mostra o resultado de como ira ficar a ação desejada, so que em uma copia\n",
    "# para deletar a original, veja os exemplos abaixo."
   ]
  },
  {
   "cell_type": "code",
   "execution_count": 11,
   "id": "f5d4262c",
   "metadata": {},
   "outputs": [
    {
     "data": {
      "text/html": [
       "<div>\n",
       "<style scoped>\n",
       "    .dataframe tbody tr th:only-of-type {\n",
       "        vertical-align: middle;\n",
       "    }\n",
       "\n",
       "    .dataframe tbody tr th {\n",
       "        vertical-align: top;\n",
       "    }\n",
       "\n",
       "    .dataframe thead th {\n",
       "        text-align: right;\n",
       "    }\n",
       "</style>\n",
       "<table border=\"1\" class=\"dataframe\">\n",
       "  <thead>\n",
       "    <tr style=\"text-align: right;\">\n",
       "      <th></th>\n",
       "      <th>W</th>\n",
       "      <th>X</th>\n",
       "      <th>Y</th>\n",
       "      <th>Z</th>\n",
       "      <th>new</th>\n",
       "    </tr>\n",
       "  </thead>\n",
       "  <tbody>\n",
       "    <tr>\n",
       "      <th>A</th>\n",
       "      <td>-0.163009</td>\n",
       "      <td>-0.095575</td>\n",
       "      <td>-1.080349</td>\n",
       "      <td>-0.207306</td>\n",
       "      <td>-1.243358</td>\n",
       "    </tr>\n",
       "    <tr>\n",
       "      <th>B</th>\n",
       "      <td>-1.355783</td>\n",
       "      <td>2.344705</td>\n",
       "      <td>0.298775</td>\n",
       "      <td>0.848239</td>\n",
       "      <td>-1.057009</td>\n",
       "    </tr>\n",
       "    <tr>\n",
       "      <th>C</th>\n",
       "      <td>0.740109</td>\n",
       "      <td>0.436661</td>\n",
       "      <td>-1.622706</td>\n",
       "      <td>2.110510</td>\n",
       "      <td>-0.882597</td>\n",
       "    </tr>\n",
       "    <tr>\n",
       "      <th>D</th>\n",
       "      <td>-0.713081</td>\n",
       "      <td>1.818529</td>\n",
       "      <td>0.527633</td>\n",
       "      <td>0.277916</td>\n",
       "      <td>-0.185448</td>\n",
       "    </tr>\n",
       "    <tr>\n",
       "      <th>E</th>\n",
       "      <td>-1.453239</td>\n",
       "      <td>-1.320915</td>\n",
       "      <td>1.775528</td>\n",
       "      <td>-0.859121</td>\n",
       "      <td>0.322288</td>\n",
       "    </tr>\n",
       "  </tbody>\n",
       "</table>\n",
       "</div>"
      ],
      "text/plain": [
       "          W         X         Y         Z       new\n",
       "A -0.163009 -0.095575 -1.080349 -0.207306 -1.243358\n",
       "B -1.355783  2.344705  0.298775  0.848239 -1.057009\n",
       "C  0.740109  0.436661 -1.622706  2.110510 -0.882597\n",
       "D -0.713081  1.818529  0.527633  0.277916 -0.185448\n",
       "E -1.453239 -1.320915  1.775528 -0.859121  0.322288"
      ]
     },
     "execution_count": 11,
     "metadata": {},
     "output_type": "execute_result"
    }
   ],
   "source": [
    "df\n",
    "# a grande maioria das funcoes do pandas, nao altera o Original, ela faz uma copia e altera.\n",
    "\n",
    "# para que se vc queira preservar o original e ter uma copia com as alteraçoes "
   ]
  },
  {
   "cell_type": "code",
   "execution_count": 12,
   "id": "2c8623eb",
   "metadata": {},
   "outputs": [],
   "source": [
    "df2 = df.drop('new', axis=1)\n",
    "# apenas criando uma copia com a Coluna 'New' deletada"
   ]
  },
  {
   "cell_type": "code",
   "execution_count": 13,
   "id": "0fa7902b",
   "metadata": {},
   "outputs": [],
   "source": [
    "df.drop('new', axis=1, inplace=True)\n",
    "# Observe que nao tem retorno, ele deletou o original, nao as copias."
   ]
  },
  {
   "cell_type": "code",
   "execution_count": 14,
   "id": "bf627064",
   "metadata": {},
   "outputs": [
    {
     "data": {
      "text/html": [
       "<div>\n",
       "<style scoped>\n",
       "    .dataframe tbody tr th:only-of-type {\n",
       "        vertical-align: middle;\n",
       "    }\n",
       "\n",
       "    .dataframe tbody tr th {\n",
       "        vertical-align: top;\n",
       "    }\n",
       "\n",
       "    .dataframe thead th {\n",
       "        text-align: right;\n",
       "    }\n",
       "</style>\n",
       "<table border=\"1\" class=\"dataframe\">\n",
       "  <thead>\n",
       "    <tr style=\"text-align: right;\">\n",
       "      <th></th>\n",
       "      <th>W</th>\n",
       "      <th>X</th>\n",
       "      <th>Y</th>\n",
       "      <th>Z</th>\n",
       "    </tr>\n",
       "  </thead>\n",
       "  <tbody>\n",
       "    <tr>\n",
       "      <th>A</th>\n",
       "      <td>-0.163009</td>\n",
       "      <td>-0.095575</td>\n",
       "      <td>-1.080349</td>\n",
       "      <td>-0.207306</td>\n",
       "    </tr>\n",
       "    <tr>\n",
       "      <th>B</th>\n",
       "      <td>-1.355783</td>\n",
       "      <td>2.344705</td>\n",
       "      <td>0.298775</td>\n",
       "      <td>0.848239</td>\n",
       "    </tr>\n",
       "    <tr>\n",
       "      <th>C</th>\n",
       "      <td>0.740109</td>\n",
       "      <td>0.436661</td>\n",
       "      <td>-1.622706</td>\n",
       "      <td>2.110510</td>\n",
       "    </tr>\n",
       "    <tr>\n",
       "      <th>D</th>\n",
       "      <td>-0.713081</td>\n",
       "      <td>1.818529</td>\n",
       "      <td>0.527633</td>\n",
       "      <td>0.277916</td>\n",
       "    </tr>\n",
       "    <tr>\n",
       "      <th>E</th>\n",
       "      <td>-1.453239</td>\n",
       "      <td>-1.320915</td>\n",
       "      <td>1.775528</td>\n",
       "      <td>-0.859121</td>\n",
       "    </tr>\n",
       "  </tbody>\n",
       "</table>\n",
       "</div>"
      ],
      "text/plain": [
       "          W         X         Y         Z\n",
       "A -0.163009 -0.095575 -1.080349 -0.207306\n",
       "B -1.355783  2.344705  0.298775  0.848239\n",
       "C  0.740109  0.436661 -1.622706  2.110510\n",
       "D -0.713081  1.818529  0.527633  0.277916\n",
       "E -1.453239 -1.320915  1.775528 -0.859121"
      ]
     },
     "execution_count": 14,
     "metadata": {},
     "output_type": "execute_result"
    }
   ],
   "source": [
    "df"
   ]
  },
  {
   "cell_type": "markdown",
   "id": "bf2b4817",
   "metadata": {},
   "source": [
    "## Seleção em Linhas\n",
    "\n",
    "##### Temos 2 'metodos'(formas de fazer a seleção), loc e iloc."
   ]
  },
  {
   "cell_type": "code",
   "execution_count": 15,
   "id": "c4a8b015",
   "metadata": {},
   "outputs": [
    {
     "data": {
      "text/plain": [
       "W   -0.163009\n",
       "X   -0.095575\n",
       "Y   -1.080349\n",
       "Z   -0.207306\n",
       "Name: A, dtype: float64"
      ]
     },
     "execution_count": 15,
     "metadata": {},
     "output_type": "execute_result"
    }
   ],
   "source": [
    "df.loc['A']\n",
    "# loc, acessa as linhas da mesma forma que acessar o indice, Para melhor compreensão observe a tabela acima eo retorno\n",
    "\n",
    "# ele fez uma transposiçao, devolveu as colunas em linhas, devolveu umas Series"
   ]
  },
  {
   "cell_type": "code",
   "execution_count": 17,
   "id": "6373b55e",
   "metadata": {},
   "outputs": [
    {
     "data": {
      "text/plain": [
       "-1.080348665668587"
      ]
     },
     "execution_count": 17,
     "metadata": {},
     "output_type": "execute_result"
    }
   ],
   "source": [
    "df.iloc[0, 2]\n",
    "# iloc, vou trabalhar com os valores de forma numeria.\n",
    "\n",
    "# posso acessar os elementos, passando indice da Coluna e indice da Linha\n",
    "\n",
    "# Sempre passar o indice da LINHA e dps Coluna"
   ]
  },
  {
   "cell_type": "code",
   "execution_count": null,
   "id": "5e61ebbe",
   "metadata": {},
   "outputs": [],
   "source": [
    "# No dataframe o que vem dentro dos colchetes, [''] definimos pelas colunas"
   ]
  },
  {
   "cell_type": "code",
   "execution_count": null,
   "id": "9e0d7997",
   "metadata": {},
   "outputs": [],
   "source": []
  }
 ],
 "metadata": {
  "kernelspec": {
   "display_name": "Python 3 (ipykernel)",
   "language": "python",
   "name": "python3"
  },
  "language_info": {
   "codemirror_mode": {
    "name": "ipython",
    "version": 3
   },
   "file_extension": ".py",
   "mimetype": "text/x-python",
   "name": "python",
   "nbconvert_exporter": "python",
   "pygments_lexer": "ipython3",
   "version": "3.9.6"
  }
 },
 "nbformat": 4,
 "nbformat_minor": 5
}
